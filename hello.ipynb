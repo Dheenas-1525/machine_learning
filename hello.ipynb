{
 "cells": [
  {
   "cell_type": "code",
   "execution_count": 6,
   "id": "ca9ae403",
   "metadata": {},
   "outputs": [],
   "source": [
    "import pandas as pd"
   ]
  },
  {
   "cell_type": "code",
   "execution_count": 11,
   "id": "4d4e941a",
   "metadata": {},
   "outputs": [],
   "source": [
    "data = ['dheena', 'arun', 'mani']\n",
    "lables = ['first', 'second', 'third']"
   ]
  },
  {
   "cell_type": "code",
   "execution_count": 9,
   "id": "259b5df3",
   "metadata": {},
   "outputs": [],
   "source": [
    "series = pd.Series(data)"
   ]
  },
  {
   "cell_type": "code",
   "execution_count": 10,
   "id": "93e6a8a1",
   "metadata": {},
   "outputs": [
    {
     "data": {
      "text/plain": [
       "0    dheena\n",
       "1      arun\n",
       "2      mani\n",
       "dtype: object"
      ]
     },
     "execution_count": 10,
     "metadata": {},
     "output_type": "execute_result"
    }
   ],
   "source": [
    "series"
   ]
  },
  {
   "cell_type": "code",
   "execution_count": 27,
   "id": "a2922346",
   "metadata": {},
   "outputs": [],
   "source": [
    "series = pd.Series(data, index = lables)"
   ]
  },
  {
   "cell_type": "code",
   "execution_count": 28,
   "id": "8103d6ef",
   "metadata": {},
   "outputs": [
    {
     "data": {
      "text/plain": [
       "first     dheena\n",
       "second      arun\n",
       "third       mani\n",
       "dtype: object"
      ]
     },
     "execution_count": 28,
     "metadata": {},
     "output_type": "execute_result"
    }
   ],
   "source": [
    "series"
   ]
  },
  {
   "cell_type": "code",
   "execution_count": 29,
   "id": "8e253b37",
   "metadata": {},
   "outputs": [
    {
     "data": {
      "text/plain": [
       "'dheena'"
      ]
     },
     "execution_count": 29,
     "metadata": {},
     "output_type": "execute_result"
    }
   ],
   "source": [
    "series['first']"
   ]
  },
  {
   "cell_type": "code",
   "execution_count": 30,
   "id": "8b07a4d0",
   "metadata": {},
   "outputs": [
    {
     "data": {
      "text/plain": [
       "'arun'"
      ]
     },
     "execution_count": 30,
     "metadata": {},
     "output_type": "execute_result"
    }
   ],
   "source": [
    "series['second']"
   ]
  },
  {
   "cell_type": "code",
   "execution_count": 31,
   "id": "d2776e79",
   "metadata": {},
   "outputs": [],
   "source": [
    "data = [1,2,3]\n",
    "\n",
    "data2 = [4,5,6]\n",
    "\n",
    "lables = ['first', 'second', 'third']\n"
   ]
  },
  {
   "cell_type": "code",
   "execution_count": 32,
   "id": "f4c8dafb",
   "metadata": {},
   "outputs": [],
   "source": [
    "data = pd.Series(data)\n",
    "data2 = pd.Series(data2)"
   ]
  },
  {
   "cell_type": "code",
   "execution_count": 33,
   "id": "b5af6e33",
   "metadata": {},
   "outputs": [
    {
     "data": {
      "text/plain": [
       "0    4\n",
       "1    5\n",
       "2    6\n",
       "dtype: int64"
      ]
     },
     "execution_count": 33,
     "metadata": {},
     "output_type": "execute_result"
    }
   ],
   "source": [
    "data\n",
    "data2"
   ]
  },
  {
   "cell_type": "code",
   "execution_count": 34,
   "id": "db18d1c9",
   "metadata": {},
   "outputs": [
    {
     "data": {
      "text/plain": [
       "0    1\n",
       "1    2\n",
       "2    3\n",
       "dtype: int64"
      ]
     },
     "execution_count": 34,
     "metadata": {},
     "output_type": "execute_result"
    }
   ],
   "source": [
    "data"
   ]
  },
  {
   "cell_type": "code",
   "execution_count": 35,
   "id": "e33df1bf",
   "metadata": {},
   "outputs": [
    {
     "data": {
      "text/plain": [
       "0    4\n",
       "1    5\n",
       "2    6\n",
       "dtype: int64"
      ]
     },
     "execution_count": 35,
     "metadata": {},
     "output_type": "execute_result"
    }
   ],
   "source": [
    "data2"
   ]
  },
  {
   "cell_type": "code",
   "execution_count": 36,
   "id": "e32951ac",
   "metadata": {},
   "outputs": [
    {
     "data": {
      "text/plain": [
       "0    3\n",
       "1    3\n",
       "2    3\n",
       "dtype: int64"
      ]
     },
     "execution_count": 36,
     "metadata": {},
     "output_type": "execute_result"
    }
   ],
   "source": [
    "data2 - data"
   ]
  },
  {
   "cell_type": "code",
   "execution_count": 37,
   "id": "a86e4a03",
   "metadata": {},
   "outputs": [
    {
     "data": {
      "text/plain": [
       "0   -3\n",
       "1   -3\n",
       "2   -3\n",
       "dtype: int64"
      ]
     },
     "execution_count": 37,
     "metadata": {},
     "output_type": "execute_result"
    }
   ],
   "source": [
    "data - data2"
   ]
  },
  {
   "cell_type": "code",
   "execution_count": 38,
   "id": "2fdc2c07",
   "metadata": {},
   "outputs": [],
   "source": [
    "float = [1.0, 2.0, 3.0]\n"
   ]
  },
  {
   "cell_type": "code",
   "execution_count": 39,
   "id": "88c8da69",
   "metadata": {},
   "outputs": [
    {
     "data": {
      "text/plain": [
       "[1.0, 2.0, 3.0]"
      ]
     },
     "execution_count": 39,
     "metadata": {},
     "output_type": "execute_result"
    }
   ],
   "source": [
    "float"
   ]
  },
  {
   "cell_type": "code",
   "execution_count": 40,
   "id": "d9cd9ae2",
   "metadata": {},
   "outputs": [],
   "source": [
    "float = pd.Series(float)"
   ]
  },
  {
   "cell_type": "code",
   "execution_count": 41,
   "id": "47dc143e",
   "metadata": {},
   "outputs": [
    {
     "data": {
      "text/plain": [
       "0    1.0\n",
       "1    2.0\n",
       "2    3.0\n",
       "dtype: float64"
      ]
     },
     "execution_count": 41,
     "metadata": {},
     "output_type": "execute_result"
    }
   ],
   "source": [
    "float"
   ]
  },
  {
   "cell_type": "code",
   "execution_count": 50,
   "id": "f260435d",
   "metadata": {},
   "outputs": [],
   "source": [
    "data = {\n",
    "    \"fruits\" : ['apple', 'orange', 'tomoto'],\n",
    "   \"vegitable\" : ['brinjal', 'potate', 'mango' ]\n",
    "}"
   ]
  },
  {
   "cell_type": "code",
   "execution_count": 51,
   "id": "6352b03d",
   "metadata": {},
   "outputs": [],
   "source": [
    "data = pd.DataFrame(data)"
   ]
  },
  {
   "cell_type": "code",
   "execution_count": 52,
   "id": "8ac531d8",
   "metadata": {},
   "outputs": [
    {
     "data": {
      "text/html": [
       "<div>\n",
       "<style scoped>\n",
       "    .dataframe tbody tr th:only-of-type {\n",
       "        vertical-align: middle;\n",
       "    }\n",
       "\n",
       "    .dataframe tbody tr th {\n",
       "        vertical-align: top;\n",
       "    }\n",
       "\n",
       "    .dataframe thead th {\n",
       "        text-align: right;\n",
       "    }\n",
       "</style>\n",
       "<table border=\"1\" class=\"dataframe\">\n",
       "  <thead>\n",
       "    <tr style=\"text-align: right;\">\n",
       "      <th></th>\n",
       "      <th>fruits</th>\n",
       "      <th>vegitable</th>\n",
       "    </tr>\n",
       "  </thead>\n",
       "  <tbody>\n",
       "    <tr>\n",
       "      <th>0</th>\n",
       "      <td>apple</td>\n",
       "      <td>brinjal</td>\n",
       "    </tr>\n",
       "    <tr>\n",
       "      <th>1</th>\n",
       "      <td>orange</td>\n",
       "      <td>potate</td>\n",
       "    </tr>\n",
       "    <tr>\n",
       "      <th>2</th>\n",
       "      <td>tomoto</td>\n",
       "      <td>mango</td>\n",
       "    </tr>\n",
       "  </tbody>\n",
       "</table>\n",
       "</div>"
      ],
      "text/plain": [
       "   fruits vegitable\n",
       "0   apple   brinjal\n",
       "1  orange    potate\n",
       "2  tomoto     mango"
      ]
     },
     "execution_count": 52,
     "metadata": {},
     "output_type": "execute_result"
    }
   ],
   "source": [
    "data"
   ]
  },
  {
   "cell_type": "code",
   "execution_count": 54,
   "id": "fe0283d7",
   "metadata": {},
   "outputs": [
    {
     "data": {
      "text/html": [
       "<div>\n",
       "<style scoped>\n",
       "    .dataframe tbody tr th:only-of-type {\n",
       "        vertical-align: middle;\n",
       "    }\n",
       "\n",
       "    .dataframe tbody tr th {\n",
       "        vertical-align: top;\n",
       "    }\n",
       "\n",
       "    .dataframe thead th {\n",
       "        text-align: right;\n",
       "    }\n",
       "</style>\n",
       "<table border=\"1\" class=\"dataframe\">\n",
       "  <thead>\n",
       "    <tr style=\"text-align: right;\">\n",
       "      <th></th>\n",
       "      <th>fruits</th>\n",
       "      <th>vegitable</th>\n",
       "    </tr>\n",
       "  </thead>\n",
       "  <tbody>\n",
       "    <tr>\n",
       "      <th>0</th>\n",
       "      <td>apple</td>\n",
       "      <td>brinjal</td>\n",
       "    </tr>\n",
       "    <tr>\n",
       "      <th>1</th>\n",
       "      <td>orange</td>\n",
       "      <td>potate</td>\n",
       "    </tr>\n",
       "    <tr>\n",
       "      <th>2</th>\n",
       "      <td>tomoto</td>\n",
       "      <td>mango</td>\n",
       "    </tr>\n",
       "  </tbody>\n",
       "</table>\n",
       "</div>"
      ],
      "text/plain": [
       "   fruits vegitable\n",
       "0   apple   brinjal\n",
       "1  orange    potate\n",
       "2  tomoto     mango"
      ]
     },
     "execution_count": 54,
     "metadata": {},
     "output_type": "execute_result"
    }
   ],
   "source": [
    "data"
   ]
  },
  {
   "cell_type": "code",
   "execution_count": 56,
   "id": "15f34c32",
   "metadata": {},
   "outputs": [
    {
     "data": {
      "text/plain": [
       "0     apple\n",
       "1    orange\n",
       "2    tomoto\n",
       "Name: fruits, dtype: object"
      ]
     },
     "execution_count": 56,
     "metadata": {},
     "output_type": "execute_result"
    }
   ],
   "source": [
    "data['fruits']"
   ]
  },
  {
   "cell_type": "code",
   "execution_count": 57,
   "id": "8a868aa2",
   "metadata": {},
   "outputs": [
    {
     "data": {
      "text/plain": [
       "0    brinjal\n",
       "1     potate\n",
       "2      mango\n",
       "Name: vegitable, dtype: object"
      ]
     },
     "execution_count": 57,
     "metadata": {},
     "output_type": "execute_result"
    }
   ],
   "source": [
    "data['vegitable']"
   ]
  },
  {
   "cell_type": "code",
   "execution_count": null,
   "id": "acc9c0af",
   "metadata": {},
   "outputs": [],
   "source": []
  }
 ],
 "metadata": {
  "kernelspec": {
   "display_name": "Python 3",
   "language": "python",
   "name": "python3"
  },
  "language_info": {
   "codemirror_mode": {
    "name": "ipython",
    "version": 3
   },
   "file_extension": ".py",
   "mimetype": "text/x-python",
   "name": "python",
   "nbconvert_exporter": "python",
   "pygments_lexer": "ipython3",
   "version": "3.10.12"
  }
 },
 "nbformat": 4,
 "nbformat_minor": 5
}
