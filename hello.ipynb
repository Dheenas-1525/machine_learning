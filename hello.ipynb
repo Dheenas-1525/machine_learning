{
 "cells": [
  {
   "cell_type": "code",
   "execution_count": 6,
   "id": "ca9ae403",
   "metadata": {},
   "outputs": [],
   "source": [
    "import pandas as pd"
   ]
  },
  {
   "cell_type": "code",
   "execution_count": 11,
   "id": "4d4e941a",
   "metadata": {},
   "outputs": [],
   "source": [
    "data = ['dheena', 'arun', 'mani']\n",
    "lables = ['first', 'second', 'third']"
   ]
  },
  {
   "cell_type": "code",
   "execution_count": 9,
   "id": "259b5df3",
   "metadata": {},
   "outputs": [],
   "source": [
    "series = pd.Series(data)"
   ]
  },
  {
   "cell_type": "code",
   "execution_count": 10,
   "id": "93e6a8a1",
   "metadata": {},
   "outputs": [
    {
     "data": {
      "text/plain": [
       "0    dheena\n",
       "1      arun\n",
       "2      mani\n",
       "dtype: object"
      ]
     },
     "execution_count": 10,
     "metadata": {},
     "output_type": "execute_result"
    }
   ],
   "source": [
    "series"
   ]
  },
  {
   "cell_type": "code",
   "execution_count": null,
   "id": "a2922346",
   "metadata": {},
   "outputs": [],
   "source": [
    "series = pd.Series(data, index = lables)"
   ]
  },
  {
   "cell_type": "code",
   "execution_count": 24,
   "id": "8103d6ef",
   "metadata": {},
   "outputs": [
    {
     "data": {
      "text/plain": [
       "first     dheena\n",
       "second      arun\n",
       "third       mani\n",
       "dtype: object"
      ]
     },
     "execution_count": 24,
     "metadata": {},
     "output_type": "execute_result"
    }
   ],
   "source": [
    "series"
   ]
  },
  {
   "cell_type": "code",
   "execution_count": 25,
   "id": "8e253b37",
   "metadata": {},
   "outputs": [
    {
     "data": {
      "text/plain": [
       "'dheena'"
      ]
     },
     "execution_count": 25,
     "metadata": {},
     "output_type": "execute_result"
    }
   ],
   "source": [
    "series['first']"
   ]
  },
  {
   "cell_type": "code",
   "execution_count": null,
   "id": "8b07a4d0",
   "metadata": {},
   "outputs": [],
   "source": []
  }
 ],
 "metadata": {
  "kernelspec": {
   "display_name": "Python 3",
   "language": "python",
   "name": "python3"
  },
  "language_info": {
   "codemirror_mode": {
    "name": "ipython",
    "version": 3
   },
   "file_extension": ".py",
   "mimetype": "text/x-python",
   "name": "python",
   "nbconvert_exporter": "python",
   "pygments_lexer": "ipython3",
   "version": "3.10.12"
  }
 },
 "nbformat": 4,
 "nbformat_minor": 5
}
