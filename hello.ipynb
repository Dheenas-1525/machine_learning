{
 "cells": [
  {
   "cell_type": "code",
   "execution_count": 6,
   "id": "ca9ae403",
   "metadata": {},
   "outputs": [],
   "source": [
    "import pandas as pd"
   ]
  },
  {
   "cell_type": "code",
   "execution_count": 11,
   "id": "4d4e941a",
   "metadata": {},
   "outputs": [],
   "source": [
    "data = ['dheena', 'arun', 'mani']\n",
    "lables = ['first', 'second', 'third']"
   ]
  },
  {
   "cell_type": "code",
   "execution_count": 9,
   "id": "259b5df3",
   "metadata": {},
   "outputs": [],
   "source": [
    "series = pd.Series(data)"
   ]
  },
  {
   "cell_type": "code",
   "execution_count": 10,
   "id": "93e6a8a1",
   "metadata": {},
   "outputs": [
    {
     "data": {
      "text/plain": [
       "0    dheena\n",
       "1      arun\n",
       "2      mani\n",
       "dtype: object"
      ]
     },
     "execution_count": 10,
     "metadata": {},
     "output_type": "execute_result"
    }
   ],
   "source": [
    "series"
   ]
  },
  {
   "cell_type": "code",
   "execution_count": 27,
   "id": "a2922346",
   "metadata": {},
   "outputs": [],
   "source": [
    "series = pd.Series(data, index = lables)"
   ]
  },
  {
   "cell_type": "code",
   "execution_count": 28,
   "id": "8103d6ef",
   "metadata": {},
   "outputs": [
    {
     "data": {
      "text/plain": [
       "first     dheena\n",
       "second      arun\n",
       "third       mani\n",
       "dtype: object"
      ]
     },
     "execution_count": 28,
     "metadata": {},
     "output_type": "execute_result"
    }
   ],
   "source": [
    "series"
   ]
  },
  {
   "cell_type": "code",
   "execution_count": 29,
   "id": "8e253b37",
   "metadata": {},
   "outputs": [
    {
     "data": {
      "text/plain": [
       "'dheena'"
      ]
     },
     "execution_count": 29,
     "metadata": {},
     "output_type": "execute_result"
    }
   ],
   "source": [
    "series['first']"
   ]
  },
  {
   "cell_type": "code",
   "execution_count": 30,
   "id": "8b07a4d0",
   "metadata": {},
   "outputs": [
    {
     "data": {
      "text/plain": [
       "'arun'"
      ]
     },
     "execution_count": 30,
     "metadata": {},
     "output_type": "execute_result"
    }
   ],
   "source": [
    "series['second']"
   ]
  },
  {
   "cell_type": "code",
   "execution_count": 31,
   "id": "d2776e79",
   "metadata": {},
   "outputs": [],
   "source": [
    "data = [1,2,3]\n",
    "\n",
    "data2 = [4,5,6]\n",
    "\n",
    "lables = ['first', 'second', 'third']\n"
   ]
  },
  {
   "cell_type": "code",
   "execution_count": 32,
   "id": "f4c8dafb",
   "metadata": {},
   "outputs": [],
   "source": [
    "data = pd.Series(data)\n",
    "data2 = pd.Series(data2)"
   ]
  },
  {
   "cell_type": "code",
   "execution_count": 33,
   "id": "b5af6e33",
   "metadata": {},
   "outputs": [
    {
     "data": {
      "text/plain": [
       "0    4\n",
       "1    5\n",
       "2    6\n",
       "dtype: int64"
      ]
     },
     "execution_count": 33,
     "metadata": {},
     "output_type": "execute_result"
    }
   ],
   "source": [
    "data\n",
    "data2"
   ]
  },
  {
   "cell_type": "code",
   "execution_count": 34,
   "id": "db18d1c9",
   "metadata": {},
   "outputs": [
    {
     "data": {
      "text/plain": [
       "0    1\n",
       "1    2\n",
       "2    3\n",
       "dtype: int64"
      ]
     },
     "execution_count": 34,
     "metadata": {},
     "output_type": "execute_result"
    }
   ],
   "source": [
    "data"
   ]
  },
  {
   "cell_type": "code",
   "execution_count": 35,
   "id": "e33df1bf",
   "metadata": {},
   "outputs": [
    {
     "data": {
      "text/plain": [
       "0    4\n",
       "1    5\n",
       "2    6\n",
       "dtype: int64"
      ]
     },
     "execution_count": 35,
     "metadata": {},
     "output_type": "execute_result"
    }
   ],
   "source": [
    "data2"
   ]
  },
  {
   "cell_type": "code",
   "execution_count": 36,
   "id": "e32951ac",
   "metadata": {},
   "outputs": [
    {
     "data": {
      "text/plain": [
       "0    3\n",
       "1    3\n",
       "2    3\n",
       "dtype: int64"
      ]
     },
     "execution_count": 36,
     "metadata": {},
     "output_type": "execute_result"
    }
   ],
   "source": [
    "data2 - data"
   ]
  },
  {
   "cell_type": "code",
   "execution_count": 37,
   "id": "a86e4a03",
   "metadata": {},
   "outputs": [
    {
     "data": {
      "text/plain": [
       "0   -3\n",
       "1   -3\n",
       "2   -3\n",
       "dtype: int64"
      ]
     },
     "execution_count": 37,
     "metadata": {},
     "output_type": "execute_result"
    }
   ],
   "source": [
    "data - data2"
   ]
  },
  {
   "cell_type": "code",
   "execution_count": 38,
   "id": "2fdc2c07",
   "metadata": {},
   "outputs": [],
   "source": [
    "float = [1.0, 2.0, 3.0]\n"
   ]
  },
  {
   "cell_type": "code",
   "execution_count": 39,
   "id": "88c8da69",
   "metadata": {},
   "outputs": [
    {
     "data": {
      "text/plain": [
       "[1.0, 2.0, 3.0]"
      ]
     },
     "execution_count": 39,
     "metadata": {},
     "output_type": "execute_result"
    }
   ],
   "source": [
    "float"
   ]
  },
  {
   "cell_type": "code",
   "execution_count": 40,
   "id": "d9cd9ae2",
   "metadata": {},
   "outputs": [],
   "source": [
    "float = pd.Series(float)"
   ]
  },
  {
   "cell_type": "code",
   "execution_count": 41,
   "id": "47dc143e",
   "metadata": {},
   "outputs": [
    {
     "data": {
      "text/plain": [
       "0    1.0\n",
       "1    2.0\n",
       "2    3.0\n",
       "dtype: float64"
      ]
     },
     "execution_count": 41,
     "metadata": {},
     "output_type": "execute_result"
    }
   ],
   "source": [
    "float"
   ]
  },
  {
   "cell_type": "code",
   "execution_count": 50,
   "id": "f260435d",
   "metadata": {},
   "outputs": [],
   "source": [
    "data = {\n",
    "    \"fruits\" : ['apple', 'orange', 'tomoto'],\n",
    "   \"vegitable\" : ['brinjal', 'potate', 'mango' ]\n",
    "}"
   ]
  },
  {
   "cell_type": "code",
   "execution_count": 51,
   "id": "6352b03d",
   "metadata": {},
   "outputs": [],
   "source": [
    "data = pd.DataFrame(data)"
   ]
  },
  {
   "cell_type": "code",
   "execution_count": 52,
   "id": "8ac531d8",
   "metadata": {},
   "outputs": [
    {
     "data": {
      "text/html": [
       "<div>\n",
       "<style scoped>\n",
       "    .dataframe tbody tr th:only-of-type {\n",
       "        vertical-align: middle;\n",
       "    }\n",
       "\n",
       "    .dataframe tbody tr th {\n",
       "        vertical-align: top;\n",
       "    }\n",
       "\n",
       "    .dataframe thead th {\n",
       "        text-align: right;\n",
       "    }\n",
       "</style>\n",
       "<table border=\"1\" class=\"dataframe\">\n",
       "  <thead>\n",
       "    <tr style=\"text-align: right;\">\n",
       "      <th></th>\n",
       "      <th>fruits</th>\n",
       "      <th>vegitable</th>\n",
       "    </tr>\n",
       "  </thead>\n",
       "  <tbody>\n",
       "    <tr>\n",
       "      <th>0</th>\n",
       "      <td>apple</td>\n",
       "      <td>brinjal</td>\n",
       "    </tr>\n",
       "    <tr>\n",
       "      <th>1</th>\n",
       "      <td>orange</td>\n",
       "      <td>potate</td>\n",
       "    </tr>\n",
       "    <tr>\n",
       "      <th>2</th>\n",
       "      <td>tomoto</td>\n",
       "      <td>mango</td>\n",
       "    </tr>\n",
       "  </tbody>\n",
       "</table>\n",
       "</div>"
      ],
      "text/plain": [
       "   fruits vegitable\n",
       "0   apple   brinjal\n",
       "1  orange    potate\n",
       "2  tomoto     mango"
      ]
     },
     "execution_count": 52,
     "metadata": {},
     "output_type": "execute_result"
    }
   ],
   "source": [
    "data"
   ]
  },
  {
   "cell_type": "code",
   "execution_count": 54,
   "id": "fe0283d7",
   "metadata": {},
   "outputs": [
    {
     "data": {
      "text/html": [
       "<div>\n",
       "<style scoped>\n",
       "    .dataframe tbody tr th:only-of-type {\n",
       "        vertical-align: middle;\n",
       "    }\n",
       "\n",
       "    .dataframe tbody tr th {\n",
       "        vertical-align: top;\n",
       "    }\n",
       "\n",
       "    .dataframe thead th {\n",
       "        text-align: right;\n",
       "    }\n",
       "</style>\n",
       "<table border=\"1\" class=\"dataframe\">\n",
       "  <thead>\n",
       "    <tr style=\"text-align: right;\">\n",
       "      <th></th>\n",
       "      <th>fruits</th>\n",
       "      <th>vegitable</th>\n",
       "    </tr>\n",
       "  </thead>\n",
       "  <tbody>\n",
       "    <tr>\n",
       "      <th>0</th>\n",
       "      <td>apple</td>\n",
       "      <td>brinjal</td>\n",
       "    </tr>\n",
       "    <tr>\n",
       "      <th>1</th>\n",
       "      <td>orange</td>\n",
       "      <td>potate</td>\n",
       "    </tr>\n",
       "    <tr>\n",
       "      <th>2</th>\n",
       "      <td>tomoto</td>\n",
       "      <td>mango</td>\n",
       "    </tr>\n",
       "  </tbody>\n",
       "</table>\n",
       "</div>"
      ],
      "text/plain": [
       "   fruits vegitable\n",
       "0   apple   brinjal\n",
       "1  orange    potate\n",
       "2  tomoto     mango"
      ]
     },
     "execution_count": 54,
     "metadata": {},
     "output_type": "execute_result"
    }
   ],
   "source": [
    "data"
   ]
  },
  {
   "cell_type": "code",
   "execution_count": 56,
   "id": "15f34c32",
   "metadata": {},
   "outputs": [
    {
     "data": {
      "text/plain": [
       "0     apple\n",
       "1    orange\n",
       "2    tomoto\n",
       "Name: fruits, dtype: object"
      ]
     },
     "execution_count": 56,
     "metadata": {},
     "output_type": "execute_result"
    }
   ],
   "source": [
    "data['fruits']"
   ]
  },
  {
   "cell_type": "code",
   "execution_count": 61,
   "id": "8a868aa2",
   "metadata": {},
   "outputs": [
    {
     "data": {
      "text/plain": [
       "'brinjal'"
      ]
     },
     "execution_count": 61,
     "metadata": {},
     "output_type": "execute_result"
    }
   ],
   "source": [
    "data['vegitable'][0]"
   ]
  },
  {
   "cell_type": "code",
   "execution_count": 62,
   "id": "acc9c0af",
   "metadata": {},
   "outputs": [
    {
     "data": {
      "text/plain": [
       "'orange'"
      ]
     },
     "execution_count": 62,
     "metadata": {},
     "output_type": "execute_result"
    }
   ],
   "source": [
    "data['fruits'][1]"
   ]
  },
  {
   "cell_type": "code",
   "execution_count": 65,
   "id": "94afa324",
   "metadata": {},
   "outputs": [],
   "source": [
    "data['fruits'][1] = 'jackfruit'"
   ]
  },
  {
   "cell_type": "code",
   "execution_count": 66,
   "id": "b44452fb",
   "metadata": {},
   "outputs": [
    {
     "data": {
      "text/plain": [
       "0        apple\n",
       "1    jackfruit\n",
       "2       tomoto\n",
       "Name: fruits, dtype: object"
      ]
     },
     "execution_count": 66,
     "metadata": {},
     "output_type": "execute_result"
    }
   ],
   "source": [
    "data['fruits']"
   ]
  },
  {
   "cell_type": "code",
   "execution_count": 67,
   "id": "b0db8daf",
   "metadata": {},
   "outputs": [],
   "source": [
    "df = pd.read_csv('/home/dheena/My_learning/machine learning/customers-10000.csv')"
   ]
  },
  {
   "cell_type": "code",
   "execution_count": 68,
   "id": "1264fd21",
   "metadata": {},
   "outputs": [
    {
     "data": {
      "text/html": [
       "<div>\n",
       "<style scoped>\n",
       "    .dataframe tbody tr th:only-of-type {\n",
       "        vertical-align: middle;\n",
       "    }\n",
       "\n",
       "    .dataframe tbody tr th {\n",
       "        vertical-align: top;\n",
       "    }\n",
       "\n",
       "    .dataframe thead th {\n",
       "        text-align: right;\n",
       "    }\n",
       "</style>\n",
       "<table border=\"1\" class=\"dataframe\">\n",
       "  <thead>\n",
       "    <tr style=\"text-align: right;\">\n",
       "      <th></th>\n",
       "      <th>Customer Id</th>\n",
       "      <th>First Name</th>\n",
       "      <th>Last Name</th>\n",
       "      <th>Company</th>\n",
       "      <th>City</th>\n",
       "      <th>Country</th>\n",
       "      <th>Phone 1</th>\n",
       "      <th>Phone 2</th>\n",
       "      <th>Email</th>\n",
       "      <th>Subscription Date</th>\n",
       "      <th>Website</th>\n",
       "    </tr>\n",
       "  </thead>\n",
       "  <tbody>\n",
       "    <tr>\n",
       "      <th>0</th>\n",
       "      <td>EB54EF1154C3A78</td>\n",
       "      <td>Heather</td>\n",
       "      <td>Callahan</td>\n",
       "      <td>Mosley-David</td>\n",
       "      <td>Lake Jeffborough</td>\n",
       "      <td>Norway</td>\n",
       "      <td>043-797-5229</td>\n",
       "      <td>915.112.1727</td>\n",
       "      <td>urangel@espinoza-francis.net</td>\n",
       "      <td>26/08/2020</td>\n",
       "      <td>http://www.escobar.org/</td>\n",
       "    </tr>\n",
       "    <tr>\n",
       "      <th>1</th>\n",
       "      <td>10dAcafEBbA5FcA</td>\n",
       "      <td>Kristina</td>\n",
       "      <td>Ferrell</td>\n",
       "      <td>Horn, Shepard and Watson</td>\n",
       "      <td>Aaronville</td>\n",
       "      <td>Andorra</td>\n",
       "      <td>932-062-1802</td>\n",
       "      <td>(209)172-7124x3651</td>\n",
       "      <td>xreese@hall-donovan.com</td>\n",
       "      <td>27/04/2020</td>\n",
       "      <td>https://tyler-pugh.info/</td>\n",
       "    </tr>\n",
       "    <tr>\n",
       "      <th>2</th>\n",
       "      <td>67DAB15Ebe4BE4a</td>\n",
       "      <td>Briana</td>\n",
       "      <td>Andersen</td>\n",
       "      <td>Irwin-Oneal</td>\n",
       "      <td>East Jordan</td>\n",
       "      <td>Nepal</td>\n",
       "      <td>8352752061</td>\n",
       "      <td>(567)135-1918</td>\n",
       "      <td>haleybraun@blevins-sexton.com</td>\n",
       "      <td>22/03/2022</td>\n",
       "      <td>https://www.mack-bell.net/</td>\n",
       "    </tr>\n",
       "    <tr>\n",
       "      <th>3</th>\n",
       "      <td>6d350C5E5eDB4EE</td>\n",
       "      <td>Patty</td>\n",
       "      <td>Ponce</td>\n",
       "      <td>Richardson Group</td>\n",
       "      <td>East Kristintown</td>\n",
       "      <td>Northern Mariana Islands</td>\n",
       "      <td>302.398.3833</td>\n",
       "      <td>196-189-7767x770</td>\n",
       "      <td>hohailey@anthony.com</td>\n",
       "      <td>02/07/2020</td>\n",
       "      <td>https://delacruz-freeman.org/</td>\n",
       "    </tr>\n",
       "    <tr>\n",
       "      <th>4</th>\n",
       "      <td>5820deAdCF23EFe</td>\n",
       "      <td>Kathleen</td>\n",
       "      <td>Mccormick</td>\n",
       "      <td>Carson-Burch</td>\n",
       "      <td>Andresmouth</td>\n",
       "      <td>Macao</td>\n",
       "      <td>001-184-153-9683x1497</td>\n",
       "      <td>552.051.2979x342</td>\n",
       "      <td>alvaradojesse@rangel-shields.com</td>\n",
       "      <td>17/01/2021</td>\n",
       "      <td>https://welch.info/</td>\n",
       "    </tr>\n",
       "    <tr>\n",
       "      <th>...</th>\n",
       "      <td>...</td>\n",
       "      <td>...</td>\n",
       "      <td>...</td>\n",
       "      <td>...</td>\n",
       "      <td>...</td>\n",
       "      <td>...</td>\n",
       "      <td>...</td>\n",
       "      <td>...</td>\n",
       "      <td>...</td>\n",
       "      <td>...</td>\n",
       "      <td>...</td>\n",
       "    </tr>\n",
       "    <tr>\n",
       "      <th>9995</th>\n",
       "      <td>DD0caa06ebf217c</td>\n",
       "      <td>Meghan</td>\n",
       "      <td>Cline</td>\n",
       "      <td>Richardson LLC</td>\n",
       "      <td>Petersport</td>\n",
       "      <td>Cote d'Ivoire</td>\n",
       "      <td>001-270-136-4738x419</td>\n",
       "      <td>001-349-692-1755x055</td>\n",
       "      <td>nicolasandrade@bates.info</td>\n",
       "      <td>27/04/2022</td>\n",
       "      <td>http://thomas-ramos.com/</td>\n",
       "    </tr>\n",
       "    <tr>\n",
       "      <th>9996</th>\n",
       "      <td>C1C62ff90D0AfED</td>\n",
       "      <td>Jeremiah</td>\n",
       "      <td>Pena</td>\n",
       "      <td>Hodge-Nixon</td>\n",
       "      <td>Briggsport</td>\n",
       "      <td>Namibia</td>\n",
       "      <td>+1-531-494-7645x4844</td>\n",
       "      <td>001-295-324-5502x5411</td>\n",
       "      <td>tracy68@wade.com</td>\n",
       "      <td>17/01/2022</td>\n",
       "      <td>https://www.campbell.com/</td>\n",
       "    </tr>\n",
       "    <tr>\n",
       "      <th>9997</th>\n",
       "      <td>2EfAa6Fe435A7DA</td>\n",
       "      <td>Peggy</td>\n",
       "      <td>Key</td>\n",
       "      <td>Vang LLC</td>\n",
       "      <td>West Joyceport</td>\n",
       "      <td>United States Virgin Islands</td>\n",
       "      <td>520.109.2482x26052</td>\n",
       "      <td>+1-602-934-5901x95106</td>\n",
       "      <td>mclaughlinjulia@barnett-dorsey.com</td>\n",
       "      <td>13/01/2022</td>\n",
       "      <td>http://www.george-scott.com/</td>\n",
       "    </tr>\n",
       "    <tr>\n",
       "      <th>9998</th>\n",
       "      <td>5dB06C3Fab5CCCb</td>\n",
       "      <td>Evan</td>\n",
       "      <td>Humphrey</td>\n",
       "      <td>Gould Ltd</td>\n",
       "      <td>Camachochester</td>\n",
       "      <td>Niger</td>\n",
       "      <td>001-465-242-9979</td>\n",
       "      <td>001-639-955-2116x751</td>\n",
       "      <td>velazquezjessica@villegas-wilcox.com</td>\n",
       "      <td>14/04/2020</td>\n",
       "      <td>https://www.payne.info/</td>\n",
       "    </tr>\n",
       "    <tr>\n",
       "      <th>9999</th>\n",
       "      <td>9903e8fF4D8Ff0F</td>\n",
       "      <td>Melissa</td>\n",
       "      <td>Montgomery</td>\n",
       "      <td>Burns-Holden</td>\n",
       "      <td>Sparkstown</td>\n",
       "      <td>Tunisia</td>\n",
       "      <td>+1-889-682-9490x65400</td>\n",
       "      <td>423.632.2539x98740</td>\n",
       "      <td>ngallagher@martinez.com</td>\n",
       "      <td>27/06/2020</td>\n",
       "      <td>http://nixon.net/</td>\n",
       "    </tr>\n",
       "  </tbody>\n",
       "</table>\n",
       "<p>10000 rows × 11 columns</p>\n",
       "</div>"
      ],
      "text/plain": [
       "          Customer Id First Name   Last Name                   Company  \\\n",
       "0     EB54EF1154C3A78    Heather    Callahan              Mosley-David   \n",
       "1     10dAcafEBbA5FcA   Kristina     Ferrell  Horn, Shepard and Watson   \n",
       "2     67DAB15Ebe4BE4a     Briana    Andersen               Irwin-Oneal   \n",
       "3     6d350C5E5eDB4EE      Patty       Ponce          Richardson Group   \n",
       "4     5820deAdCF23EFe   Kathleen   Mccormick              Carson-Burch   \n",
       "...               ...        ...         ...                       ...   \n",
       "9995  DD0caa06ebf217c     Meghan       Cline            Richardson LLC   \n",
       "9996  C1C62ff90D0AfED   Jeremiah        Pena               Hodge-Nixon   \n",
       "9997  2EfAa6Fe435A7DA      Peggy         Key                  Vang LLC   \n",
       "9998  5dB06C3Fab5CCCb       Evan    Humphrey                 Gould Ltd   \n",
       "9999  9903e8fF4D8Ff0F    Melissa  Montgomery              Burns-Holden   \n",
       "\n",
       "                  City                       Country                Phone 1  \\\n",
       "0     Lake Jeffborough                        Norway           043-797-5229   \n",
       "1           Aaronville                       Andorra           932-062-1802   \n",
       "2          East Jordan                         Nepal             8352752061   \n",
       "3     East Kristintown      Northern Mariana Islands           302.398.3833   \n",
       "4          Andresmouth                         Macao  001-184-153-9683x1497   \n",
       "...                ...                           ...                    ...   \n",
       "9995        Petersport                 Cote d'Ivoire   001-270-136-4738x419   \n",
       "9996        Briggsport                       Namibia   +1-531-494-7645x4844   \n",
       "9997    West Joyceport  United States Virgin Islands     520.109.2482x26052   \n",
       "9998    Camachochester                         Niger       001-465-242-9979   \n",
       "9999        Sparkstown                       Tunisia  +1-889-682-9490x65400   \n",
       "\n",
       "                    Phone 2                                 Email  \\\n",
       "0              915.112.1727          urangel@espinoza-francis.net   \n",
       "1        (209)172-7124x3651               xreese@hall-donovan.com   \n",
       "2             (567)135-1918         haleybraun@blevins-sexton.com   \n",
       "3          196-189-7767x770                  hohailey@anthony.com   \n",
       "4          552.051.2979x342      alvaradojesse@rangel-shields.com   \n",
       "...                     ...                                   ...   \n",
       "9995   001-349-692-1755x055             nicolasandrade@bates.info   \n",
       "9996  001-295-324-5502x5411                      tracy68@wade.com   \n",
       "9997  +1-602-934-5901x95106    mclaughlinjulia@barnett-dorsey.com   \n",
       "9998   001-639-955-2116x751  velazquezjessica@villegas-wilcox.com   \n",
       "9999     423.632.2539x98740               ngallagher@martinez.com   \n",
       "\n",
       "     Subscription Date                        Website  \n",
       "0           26/08/2020        http://www.escobar.org/  \n",
       "1           27/04/2020       https://tyler-pugh.info/  \n",
       "2           22/03/2022     https://www.mack-bell.net/  \n",
       "3           02/07/2020  https://delacruz-freeman.org/  \n",
       "4           17/01/2021            https://welch.info/  \n",
       "...                ...                            ...  \n",
       "9995        27/04/2022       http://thomas-ramos.com/  \n",
       "9996        17/01/2022      https://www.campbell.com/  \n",
       "9997        13/01/2022   http://www.george-scott.com/  \n",
       "9998        14/04/2020        https://www.payne.info/  \n",
       "9999        27/06/2020              http://nixon.net/  \n",
       "\n",
       "[10000 rows x 11 columns]"
      ]
     },
     "execution_count": 68,
     "metadata": {},
     "output_type": "execute_result"
    }
   ],
   "source": [
    "df"
   ]
  },
  {
   "cell_type": "code",
   "execution_count": 70,
   "id": "7df5e532",
   "metadata": {},
   "outputs": [
    {
     "data": {
      "text/plain": [
       "0       EB54EF1154C3A78\n",
       "1       10dAcafEBbA5FcA\n",
       "2       67DAB15Ebe4BE4a\n",
       "3       6d350C5E5eDB4EE\n",
       "4       5820deAdCF23EFe\n",
       "             ...       \n",
       "9995    DD0caa06ebf217c\n",
       "9996    C1C62ff90D0AfED\n",
       "9997    2EfAa6Fe435A7DA\n",
       "9998    5dB06C3Fab5CCCb\n",
       "9999    9903e8fF4D8Ff0F\n",
       "Name: Customer Id, Length: 10000, dtype: object"
      ]
     },
     "execution_count": 70,
     "metadata": {},
     "output_type": "execute_result"
    }
   ],
   "source": [
    "df['Customer Id']"
   ]
  },
  {
   "cell_type": "code",
   "execution_count": 71,
   "id": "24d95637",
   "metadata": {},
   "outputs": [
    {
     "data": {
      "text/plain": [
       "'67DAB15Ebe4BE4a'"
      ]
     },
     "execution_count": 71,
     "metadata": {},
     "output_type": "execute_result"
    }
   ],
   "source": [
    "df['Customer Id'][2]"
   ]
  },
  {
   "cell_type": "code",
   "execution_count": 72,
   "id": "d5e7c279",
   "metadata": {},
   "outputs": [
    {
     "data": {
      "text/plain": [
       "0        Heather\n",
       "1       Kristina\n",
       "2         Briana\n",
       "3          Patty\n",
       "4       Kathleen\n",
       "          ...   \n",
       "9995      Meghan\n",
       "9996    Jeremiah\n",
       "9997       Peggy\n",
       "9998        Evan\n",
       "9999     Melissa\n",
       "Name: First Name, Length: 10000, dtype: object"
      ]
     },
     "execution_count": 72,
     "metadata": {},
     "output_type": "execute_result"
    }
   ],
   "source": [
    "df['First Name']"
   ]
  },
  {
   "cell_type": "code",
   "execution_count": 73,
   "id": "7e6568af",
   "metadata": {},
   "outputs": [
    {
     "data": {
      "text/plain": [
       "'Briana'"
      ]
     },
     "execution_count": 73,
     "metadata": {},
     "output_type": "execute_result"
    }
   ],
   "source": [
    "df['First Name'][2]"
   ]
  },
  {
   "cell_type": "code",
   "execution_count": 74,
   "id": "4a260fe1",
   "metadata": {},
   "outputs": [],
   "source": [
    "df['First Name'][2] = 'dheena'"
   ]
  },
  {
   "cell_type": "code",
   "execution_count": 75,
   "id": "7fd68b9d",
   "metadata": {},
   "outputs": [
    {
     "data": {
      "text/html": [
       "<div>\n",
       "<style scoped>\n",
       "    .dataframe tbody tr th:only-of-type {\n",
       "        vertical-align: middle;\n",
       "    }\n",
       "\n",
       "    .dataframe tbody tr th {\n",
       "        vertical-align: top;\n",
       "    }\n",
       "\n",
       "    .dataframe thead th {\n",
       "        text-align: right;\n",
       "    }\n",
       "</style>\n",
       "<table border=\"1\" class=\"dataframe\">\n",
       "  <thead>\n",
       "    <tr style=\"text-align: right;\">\n",
       "      <th></th>\n",
       "      <th>Customer Id</th>\n",
       "      <th>First Name</th>\n",
       "      <th>Last Name</th>\n",
       "      <th>Company</th>\n",
       "      <th>City</th>\n",
       "      <th>Country</th>\n",
       "      <th>Phone 1</th>\n",
       "      <th>Phone 2</th>\n",
       "      <th>Email</th>\n",
       "      <th>Subscription Date</th>\n",
       "      <th>Website</th>\n",
       "    </tr>\n",
       "  </thead>\n",
       "  <tbody>\n",
       "    <tr>\n",
       "      <th>0</th>\n",
       "      <td>EB54EF1154C3A78</td>\n",
       "      <td>Heather</td>\n",
       "      <td>Callahan</td>\n",
       "      <td>Mosley-David</td>\n",
       "      <td>Lake Jeffborough</td>\n",
       "      <td>Norway</td>\n",
       "      <td>043-797-5229</td>\n",
       "      <td>915.112.1727</td>\n",
       "      <td>urangel@espinoza-francis.net</td>\n",
       "      <td>26/08/2020</td>\n",
       "      <td>http://www.escobar.org/</td>\n",
       "    </tr>\n",
       "    <tr>\n",
       "      <th>1</th>\n",
       "      <td>10dAcafEBbA5FcA</td>\n",
       "      <td>Kristina</td>\n",
       "      <td>Ferrell</td>\n",
       "      <td>Horn, Shepard and Watson</td>\n",
       "      <td>Aaronville</td>\n",
       "      <td>Andorra</td>\n",
       "      <td>932-062-1802</td>\n",
       "      <td>(209)172-7124x3651</td>\n",
       "      <td>xreese@hall-donovan.com</td>\n",
       "      <td>27/04/2020</td>\n",
       "      <td>https://tyler-pugh.info/</td>\n",
       "    </tr>\n",
       "    <tr>\n",
       "      <th>2</th>\n",
       "      <td>67DAB15Ebe4BE4a</td>\n",
       "      <td>dheena</td>\n",
       "      <td>Andersen</td>\n",
       "      <td>Irwin-Oneal</td>\n",
       "      <td>East Jordan</td>\n",
       "      <td>Nepal</td>\n",
       "      <td>8352752061</td>\n",
       "      <td>(567)135-1918</td>\n",
       "      <td>haleybraun@blevins-sexton.com</td>\n",
       "      <td>22/03/2022</td>\n",
       "      <td>https://www.mack-bell.net/</td>\n",
       "    </tr>\n",
       "    <tr>\n",
       "      <th>3</th>\n",
       "      <td>6d350C5E5eDB4EE</td>\n",
       "      <td>Patty</td>\n",
       "      <td>Ponce</td>\n",
       "      <td>Richardson Group</td>\n",
       "      <td>East Kristintown</td>\n",
       "      <td>Northern Mariana Islands</td>\n",
       "      <td>302.398.3833</td>\n",
       "      <td>196-189-7767x770</td>\n",
       "      <td>hohailey@anthony.com</td>\n",
       "      <td>02/07/2020</td>\n",
       "      <td>https://delacruz-freeman.org/</td>\n",
       "    </tr>\n",
       "    <tr>\n",
       "      <th>4</th>\n",
       "      <td>5820deAdCF23EFe</td>\n",
       "      <td>Kathleen</td>\n",
       "      <td>Mccormick</td>\n",
       "      <td>Carson-Burch</td>\n",
       "      <td>Andresmouth</td>\n",
       "      <td>Macao</td>\n",
       "      <td>001-184-153-9683x1497</td>\n",
       "      <td>552.051.2979x342</td>\n",
       "      <td>alvaradojesse@rangel-shields.com</td>\n",
       "      <td>17/01/2021</td>\n",
       "      <td>https://welch.info/</td>\n",
       "    </tr>\n",
       "    <tr>\n",
       "      <th>...</th>\n",
       "      <td>...</td>\n",
       "      <td>...</td>\n",
       "      <td>...</td>\n",
       "      <td>...</td>\n",
       "      <td>...</td>\n",
       "      <td>...</td>\n",
       "      <td>...</td>\n",
       "      <td>...</td>\n",
       "      <td>...</td>\n",
       "      <td>...</td>\n",
       "      <td>...</td>\n",
       "    </tr>\n",
       "    <tr>\n",
       "      <th>9995</th>\n",
       "      <td>DD0caa06ebf217c</td>\n",
       "      <td>Meghan</td>\n",
       "      <td>Cline</td>\n",
       "      <td>Richardson LLC</td>\n",
       "      <td>Petersport</td>\n",
       "      <td>Cote d'Ivoire</td>\n",
       "      <td>001-270-136-4738x419</td>\n",
       "      <td>001-349-692-1755x055</td>\n",
       "      <td>nicolasandrade@bates.info</td>\n",
       "      <td>27/04/2022</td>\n",
       "      <td>http://thomas-ramos.com/</td>\n",
       "    </tr>\n",
       "    <tr>\n",
       "      <th>9996</th>\n",
       "      <td>C1C62ff90D0AfED</td>\n",
       "      <td>Jeremiah</td>\n",
       "      <td>Pena</td>\n",
       "      <td>Hodge-Nixon</td>\n",
       "      <td>Briggsport</td>\n",
       "      <td>Namibia</td>\n",
       "      <td>+1-531-494-7645x4844</td>\n",
       "      <td>001-295-324-5502x5411</td>\n",
       "      <td>tracy68@wade.com</td>\n",
       "      <td>17/01/2022</td>\n",
       "      <td>https://www.campbell.com/</td>\n",
       "    </tr>\n",
       "    <tr>\n",
       "      <th>9997</th>\n",
       "      <td>2EfAa6Fe435A7DA</td>\n",
       "      <td>Peggy</td>\n",
       "      <td>Key</td>\n",
       "      <td>Vang LLC</td>\n",
       "      <td>West Joyceport</td>\n",
       "      <td>United States Virgin Islands</td>\n",
       "      <td>520.109.2482x26052</td>\n",
       "      <td>+1-602-934-5901x95106</td>\n",
       "      <td>mclaughlinjulia@barnett-dorsey.com</td>\n",
       "      <td>13/01/2022</td>\n",
       "      <td>http://www.george-scott.com/</td>\n",
       "    </tr>\n",
       "    <tr>\n",
       "      <th>9998</th>\n",
       "      <td>5dB06C3Fab5CCCb</td>\n",
       "      <td>Evan</td>\n",
       "      <td>Humphrey</td>\n",
       "      <td>Gould Ltd</td>\n",
       "      <td>Camachochester</td>\n",
       "      <td>Niger</td>\n",
       "      <td>001-465-242-9979</td>\n",
       "      <td>001-639-955-2116x751</td>\n",
       "      <td>velazquezjessica@villegas-wilcox.com</td>\n",
       "      <td>14/04/2020</td>\n",
       "      <td>https://www.payne.info/</td>\n",
       "    </tr>\n",
       "    <tr>\n",
       "      <th>9999</th>\n",
       "      <td>9903e8fF4D8Ff0F</td>\n",
       "      <td>Melissa</td>\n",
       "      <td>Montgomery</td>\n",
       "      <td>Burns-Holden</td>\n",
       "      <td>Sparkstown</td>\n",
       "      <td>Tunisia</td>\n",
       "      <td>+1-889-682-9490x65400</td>\n",
       "      <td>423.632.2539x98740</td>\n",
       "      <td>ngallagher@martinez.com</td>\n",
       "      <td>27/06/2020</td>\n",
       "      <td>http://nixon.net/</td>\n",
       "    </tr>\n",
       "  </tbody>\n",
       "</table>\n",
       "<p>10000 rows × 11 columns</p>\n",
       "</div>"
      ],
      "text/plain": [
       "          Customer Id First Name   Last Name                   Company  \\\n",
       "0     EB54EF1154C3A78    Heather    Callahan              Mosley-David   \n",
       "1     10dAcafEBbA5FcA   Kristina     Ferrell  Horn, Shepard and Watson   \n",
       "2     67DAB15Ebe4BE4a     dheena    Andersen               Irwin-Oneal   \n",
       "3     6d350C5E5eDB4EE      Patty       Ponce          Richardson Group   \n",
       "4     5820deAdCF23EFe   Kathleen   Mccormick              Carson-Burch   \n",
       "...               ...        ...         ...                       ...   \n",
       "9995  DD0caa06ebf217c     Meghan       Cline            Richardson LLC   \n",
       "9996  C1C62ff90D0AfED   Jeremiah        Pena               Hodge-Nixon   \n",
       "9997  2EfAa6Fe435A7DA      Peggy         Key                  Vang LLC   \n",
       "9998  5dB06C3Fab5CCCb       Evan    Humphrey                 Gould Ltd   \n",
       "9999  9903e8fF4D8Ff0F    Melissa  Montgomery              Burns-Holden   \n",
       "\n",
       "                  City                       Country                Phone 1  \\\n",
       "0     Lake Jeffborough                        Norway           043-797-5229   \n",
       "1           Aaronville                       Andorra           932-062-1802   \n",
       "2          East Jordan                         Nepal             8352752061   \n",
       "3     East Kristintown      Northern Mariana Islands           302.398.3833   \n",
       "4          Andresmouth                         Macao  001-184-153-9683x1497   \n",
       "...                ...                           ...                    ...   \n",
       "9995        Petersport                 Cote d'Ivoire   001-270-136-4738x419   \n",
       "9996        Briggsport                       Namibia   +1-531-494-7645x4844   \n",
       "9997    West Joyceport  United States Virgin Islands     520.109.2482x26052   \n",
       "9998    Camachochester                         Niger       001-465-242-9979   \n",
       "9999        Sparkstown                       Tunisia  +1-889-682-9490x65400   \n",
       "\n",
       "                    Phone 2                                 Email  \\\n",
       "0              915.112.1727          urangel@espinoza-francis.net   \n",
       "1        (209)172-7124x3651               xreese@hall-donovan.com   \n",
       "2             (567)135-1918         haleybraun@blevins-sexton.com   \n",
       "3          196-189-7767x770                  hohailey@anthony.com   \n",
       "4          552.051.2979x342      alvaradojesse@rangel-shields.com   \n",
       "...                     ...                                   ...   \n",
       "9995   001-349-692-1755x055             nicolasandrade@bates.info   \n",
       "9996  001-295-324-5502x5411                      tracy68@wade.com   \n",
       "9997  +1-602-934-5901x95106    mclaughlinjulia@barnett-dorsey.com   \n",
       "9998   001-639-955-2116x751  velazquezjessica@villegas-wilcox.com   \n",
       "9999     423.632.2539x98740               ngallagher@martinez.com   \n",
       "\n",
       "     Subscription Date                        Website  \n",
       "0           26/08/2020        http://www.escobar.org/  \n",
       "1           27/04/2020       https://tyler-pugh.info/  \n",
       "2           22/03/2022     https://www.mack-bell.net/  \n",
       "3           02/07/2020  https://delacruz-freeman.org/  \n",
       "4           17/01/2021            https://welch.info/  \n",
       "...                ...                            ...  \n",
       "9995        27/04/2022       http://thomas-ramos.com/  \n",
       "9996        17/01/2022      https://www.campbell.com/  \n",
       "9997        13/01/2022   http://www.george-scott.com/  \n",
       "9998        14/04/2020        https://www.payne.info/  \n",
       "9999        27/06/2020              http://nixon.net/  \n",
       "\n",
       "[10000 rows x 11 columns]"
      ]
     },
     "execution_count": 75,
     "metadata": {},
     "output_type": "execute_result"
    }
   ],
   "source": [
    "df\n"
   ]
  },
  {
   "cell_type": "code",
   "execution_count": 79,
   "id": "466cd099",
   "metadata": {},
   "outputs": [],
   "source": [
    "df = pd.read_json('/home/dheena/My_learning/machine learning/csvjson.json')"
   ]
  },
  {
   "cell_type": "code",
   "execution_count": 80,
   "id": "79edeb87",
   "metadata": {},
   "outputs": [
    {
     "data": {
      "text/html": [
       "<div>\n",
       "<style scoped>\n",
       "    .dataframe tbody tr th:only-of-type {\n",
       "        vertical-align: middle;\n",
       "    }\n",
       "\n",
       "    .dataframe tbody tr th {\n",
       "        vertical-align: top;\n",
       "    }\n",
       "\n",
       "    .dataframe thead th {\n",
       "        text-align: right;\n",
       "    }\n",
       "</style>\n",
       "<table border=\"1\" class=\"dataframe\">\n",
       "  <thead>\n",
       "    <tr style=\"text-align: right;\">\n",
       "      <th></th>\n",
       "      <th>album</th>\n",
       "      <th>year</th>\n",
       "      <th>US_peak_chart_post</th>\n",
       "    </tr>\n",
       "  </thead>\n",
       "  <tbody>\n",
       "    <tr>\n",
       "      <th>0</th>\n",
       "      <td>The White Stripes</td>\n",
       "      <td>1999</td>\n",
       "      <td>-</td>\n",
       "    </tr>\n",
       "    <tr>\n",
       "      <th>1</th>\n",
       "      <td>De Stijl</td>\n",
       "      <td>2000</td>\n",
       "      <td>-</td>\n",
       "    </tr>\n",
       "    <tr>\n",
       "      <th>2</th>\n",
       "      <td>White Blood Cells</td>\n",
       "      <td>2001</td>\n",
       "      <td>61</td>\n",
       "    </tr>\n",
       "    <tr>\n",
       "      <th>3</th>\n",
       "      <td>Elephant</td>\n",
       "      <td>2003</td>\n",
       "      <td>6</td>\n",
       "    </tr>\n",
       "    <tr>\n",
       "      <th>4</th>\n",
       "      <td>Get Behind Me Satan</td>\n",
       "      <td>2005</td>\n",
       "      <td>3</td>\n",
       "    </tr>\n",
       "    <tr>\n",
       "      <th>5</th>\n",
       "      <td>Icky Thump</td>\n",
       "      <td>2007</td>\n",
       "      <td>2</td>\n",
       "    </tr>\n",
       "    <tr>\n",
       "      <th>6</th>\n",
       "      <td>Under Great White Northern Lights</td>\n",
       "      <td>2010</td>\n",
       "      <td>11</td>\n",
       "    </tr>\n",
       "    <tr>\n",
       "      <th>7</th>\n",
       "      <td>Live in Mississippi</td>\n",
       "      <td>2011</td>\n",
       "      <td>-</td>\n",
       "    </tr>\n",
       "    <tr>\n",
       "      <th>8</th>\n",
       "      <td>Live at the Gold Dollar</td>\n",
       "      <td>2012</td>\n",
       "      <td>-</td>\n",
       "    </tr>\n",
       "    <tr>\n",
       "      <th>9</th>\n",
       "      <td>Nine Miles from the White City</td>\n",
       "      <td>2013</td>\n",
       "      <td>-</td>\n",
       "    </tr>\n",
       "  </tbody>\n",
       "</table>\n",
       "</div>"
      ],
      "text/plain": [
       "                               album  year US_peak_chart_post\n",
       "0                  The White Stripes  1999                  -\n",
       "1                           De Stijl  2000                  -\n",
       "2                  White Blood Cells  2001                 61\n",
       "3                           Elephant  2003                  6\n",
       "4                Get Behind Me Satan  2005                  3\n",
       "5                         Icky Thump  2007                  2\n",
       "6  Under Great White Northern Lights  2010                 11\n",
       "7                Live in Mississippi  2011                  -\n",
       "8            Live at the Gold Dollar  2012                  -\n",
       "9     Nine Miles from the White City  2013                  -"
      ]
     },
     "execution_count": 80,
     "metadata": {},
     "output_type": "execute_result"
    }
   ],
   "source": [
    "df\n"
   ]
  },
  {
   "cell_type": "code",
   "execution_count": 81,
   "id": "78ee3a67",
   "metadata": {},
   "outputs": [
    {
     "data": {
      "text/plain": [
       "0                    The White Stripes\n",
       "1                             De Stijl\n",
       "2                    White Blood Cells\n",
       "3                             Elephant\n",
       "4                  Get Behind Me Satan\n",
       "5                           Icky Thump\n",
       "6    Under Great White Northern Lights\n",
       "7                  Live in Mississippi\n",
       "8              Live at the Gold Dollar\n",
       "9       Nine Miles from the White City\n",
       "Name: album, dtype: object"
      ]
     },
     "execution_count": 81,
     "metadata": {},
     "output_type": "execute_result"
    }
   ],
   "source": [
    "df['album']"
   ]
  },
  {
   "cell_type": "code",
   "execution_count": 82,
   "id": "699bec4b",
   "metadata": {},
   "outputs": [
    {
     "name": "stderr",
     "output_type": "stream",
     "text": [
      "/tmp/ipykernel_1309/3857366245.py:1: SettingWithCopyWarning: \n",
      "A value is trying to be set on a copy of a slice from a DataFrame\n",
      "\n",
      "See the caveats in the documentation: https://pandas.pydata.org/pandas-docs/stable/user_guide/indexing.html#returning-a-view-versus-a-copy\n",
      "  df['album'][2] = 'dhee dhayalan'\n"
     ]
    }
   ],
   "source": [
    "df['album'][2] = 'dhee dhayalan'"
   ]
  },
  {
   "cell_type": "code",
   "execution_count": 83,
   "id": "3ca66974",
   "metadata": {},
   "outputs": [
    {
     "data": {
      "text/html": [
       "<div>\n",
       "<style scoped>\n",
       "    .dataframe tbody tr th:only-of-type {\n",
       "        vertical-align: middle;\n",
       "    }\n",
       "\n",
       "    .dataframe tbody tr th {\n",
       "        vertical-align: top;\n",
       "    }\n",
       "\n",
       "    .dataframe thead th {\n",
       "        text-align: right;\n",
       "    }\n",
       "</style>\n",
       "<table border=\"1\" class=\"dataframe\">\n",
       "  <thead>\n",
       "    <tr style=\"text-align: right;\">\n",
       "      <th></th>\n",
       "      <th>album</th>\n",
       "      <th>year</th>\n",
       "      <th>US_peak_chart_post</th>\n",
       "    </tr>\n",
       "  </thead>\n",
       "  <tbody>\n",
       "    <tr>\n",
       "      <th>0</th>\n",
       "      <td>The White Stripes</td>\n",
       "      <td>1999</td>\n",
       "      <td>-</td>\n",
       "    </tr>\n",
       "    <tr>\n",
       "      <th>1</th>\n",
       "      <td>De Stijl</td>\n",
       "      <td>2000</td>\n",
       "      <td>-</td>\n",
       "    </tr>\n",
       "    <tr>\n",
       "      <th>2</th>\n",
       "      <td>dhee dhayalan</td>\n",
       "      <td>2001</td>\n",
       "      <td>61</td>\n",
       "    </tr>\n",
       "    <tr>\n",
       "      <th>3</th>\n",
       "      <td>Elephant</td>\n",
       "      <td>2003</td>\n",
       "      <td>6</td>\n",
       "    </tr>\n",
       "    <tr>\n",
       "      <th>4</th>\n",
       "      <td>Get Behind Me Satan</td>\n",
       "      <td>2005</td>\n",
       "      <td>3</td>\n",
       "    </tr>\n",
       "    <tr>\n",
       "      <th>5</th>\n",
       "      <td>Icky Thump</td>\n",
       "      <td>2007</td>\n",
       "      <td>2</td>\n",
       "    </tr>\n",
       "    <tr>\n",
       "      <th>6</th>\n",
       "      <td>Under Great White Northern Lights</td>\n",
       "      <td>2010</td>\n",
       "      <td>11</td>\n",
       "    </tr>\n",
       "    <tr>\n",
       "      <th>7</th>\n",
       "      <td>Live in Mississippi</td>\n",
       "      <td>2011</td>\n",
       "      <td>-</td>\n",
       "    </tr>\n",
       "    <tr>\n",
       "      <th>8</th>\n",
       "      <td>Live at the Gold Dollar</td>\n",
       "      <td>2012</td>\n",
       "      <td>-</td>\n",
       "    </tr>\n",
       "    <tr>\n",
       "      <th>9</th>\n",
       "      <td>Nine Miles from the White City</td>\n",
       "      <td>2013</td>\n",
       "      <td>-</td>\n",
       "    </tr>\n",
       "  </tbody>\n",
       "</table>\n",
       "</div>"
      ],
      "text/plain": [
       "                               album  year US_peak_chart_post\n",
       "0                  The White Stripes  1999                  -\n",
       "1                           De Stijl  2000                  -\n",
       "2                      dhee dhayalan  2001                 61\n",
       "3                           Elephant  2003                  6\n",
       "4                Get Behind Me Satan  2005                  3\n",
       "5                         Icky Thump  2007                  2\n",
       "6  Under Great White Northern Lights  2010                 11\n",
       "7                Live in Mississippi  2011                  -\n",
       "8            Live at the Gold Dollar  2012                  -\n",
       "9     Nine Miles from the White City  2013                  -"
      ]
     },
     "execution_count": 83,
     "metadata": {},
     "output_type": "execute_result"
    }
   ],
   "source": [
    "df"
   ]
  },
  {
   "cell_type": "code",
   "execution_count": 84,
   "id": "9b6f5f41",
   "metadata": {},
   "outputs": [
    {
     "ename": "ImportError",
     "evalue": "Missing optional dependency 'lxml'.  Use pip or conda to install lxml.",
     "output_type": "error",
     "traceback": [
      "\u001b[0;31m---------------------------------------------------------------------------\u001b[0m",
      "\u001b[0;31mModuleNotFoundError\u001b[0m                       Traceback (most recent call last)",
      "File \u001b[0;32m~/.local/lib/python3.10/site-packages/pandas/compat/_optional.py:135\u001b[0m, in \u001b[0;36mimport_optional_dependency\u001b[0;34m(name, extra, errors, min_version)\u001b[0m\n\u001b[1;32m    134\u001b[0m \u001b[38;5;28;01mtry\u001b[39;00m:\n\u001b[0;32m--> 135\u001b[0m     module \u001b[38;5;241m=\u001b[39m \u001b[43mimportlib\u001b[49m\u001b[38;5;241;43m.\u001b[39;49m\u001b[43mimport_module\u001b[49m\u001b[43m(\u001b[49m\u001b[43mname\u001b[49m\u001b[43m)\u001b[49m\n\u001b[1;32m    136\u001b[0m \u001b[38;5;28;01mexcept\u001b[39;00m \u001b[38;5;167;01mImportError\u001b[39;00m:\n",
      "File \u001b[0;32m/usr/lib/python3.10/importlib/__init__.py:126\u001b[0m, in \u001b[0;36mimport_module\u001b[0;34m(name, package)\u001b[0m\n\u001b[1;32m    125\u001b[0m         level \u001b[38;5;241m+\u001b[39m\u001b[38;5;241m=\u001b[39m \u001b[38;5;241m1\u001b[39m\n\u001b[0;32m--> 126\u001b[0m \u001b[38;5;28;01mreturn\u001b[39;00m \u001b[43m_bootstrap\u001b[49m\u001b[38;5;241;43m.\u001b[39;49m\u001b[43m_gcd_import\u001b[49m\u001b[43m(\u001b[49m\u001b[43mname\u001b[49m\u001b[43m[\u001b[49m\u001b[43mlevel\u001b[49m\u001b[43m:\u001b[49m\u001b[43m]\u001b[49m\u001b[43m,\u001b[49m\u001b[43m \u001b[49m\u001b[43mpackage\u001b[49m\u001b[43m,\u001b[49m\u001b[43m \u001b[49m\u001b[43mlevel\u001b[49m\u001b[43m)\u001b[49m\n",
      "File \u001b[0;32m<frozen importlib._bootstrap>:1050\u001b[0m, in \u001b[0;36m_gcd_import\u001b[0;34m(name, package, level)\u001b[0m\n",
      "File \u001b[0;32m<frozen importlib._bootstrap>:1027\u001b[0m, in \u001b[0;36m_find_and_load\u001b[0;34m(name, import_)\u001b[0m\n",
      "File \u001b[0;32m<frozen importlib._bootstrap>:992\u001b[0m, in \u001b[0;36m_find_and_load_unlocked\u001b[0;34m(name, import_)\u001b[0m\n",
      "File \u001b[0;32m<frozen importlib._bootstrap>:241\u001b[0m, in \u001b[0;36m_call_with_frames_removed\u001b[0;34m(f, *args, **kwds)\u001b[0m\n",
      "File \u001b[0;32m<frozen importlib._bootstrap>:1050\u001b[0m, in \u001b[0;36m_gcd_import\u001b[0;34m(name, package, level)\u001b[0m\n",
      "File \u001b[0;32m<frozen importlib._bootstrap>:1027\u001b[0m, in \u001b[0;36m_find_and_load\u001b[0;34m(name, import_)\u001b[0m\n",
      "File \u001b[0;32m<frozen importlib._bootstrap>:1004\u001b[0m, in \u001b[0;36m_find_and_load_unlocked\u001b[0;34m(name, import_)\u001b[0m\n",
      "\u001b[0;31mModuleNotFoundError\u001b[0m: No module named 'lxml'",
      "\nDuring handling of the above exception, another exception occurred:\n",
      "\u001b[0;31mImportError\u001b[0m                               Traceback (most recent call last)",
      "Cell \u001b[0;32mIn[84], line 1\u001b[0m\n\u001b[0;32m----> 1\u001b[0m df \u001b[38;5;241m=\u001b[39m \u001b[43mpd\u001b[49m\u001b[38;5;241;43m.\u001b[39;49m\u001b[43mread_html\u001b[49m\u001b[43m(\u001b[49m\u001b[38;5;124;43m'\u001b[39;49m\u001b[38;5;124;43m/home/dheena/My_learning/machine learning/customers-10000.htm\u001b[39;49m\u001b[38;5;124;43m'\u001b[39;49m\u001b[43m)\u001b[49m\n",
      "File \u001b[0;32m~/.local/lib/python3.10/site-packages/pandas/io/html.py:1240\u001b[0m, in \u001b[0;36mread_html\u001b[0;34m(io, match, flavor, header, index_col, skiprows, attrs, parse_dates, thousands, encoding, decimal, converters, na_values, keep_default_na, displayed_only, extract_links, dtype_backend, storage_options)\u001b[0m\n\u001b[1;32m   1224\u001b[0m \u001b[38;5;28;01mif\u001b[39;00m \u001b[38;5;28misinstance\u001b[39m(io, \u001b[38;5;28mstr\u001b[39m) \u001b[38;5;129;01mand\u001b[39;00m \u001b[38;5;129;01mnot\u001b[39;00m \u001b[38;5;28many\u001b[39m(\n\u001b[1;32m   1225\u001b[0m     [\n\u001b[1;32m   1226\u001b[0m         is_file_like(io),\n\u001b[0;32m   (...)\u001b[0m\n\u001b[1;32m   1230\u001b[0m     ]\n\u001b[1;32m   1231\u001b[0m ):\n\u001b[1;32m   1232\u001b[0m     warnings\u001b[38;5;241m.\u001b[39mwarn(\n\u001b[1;32m   1233\u001b[0m         \u001b[38;5;124m\"\u001b[39m\u001b[38;5;124mPassing literal html to \u001b[39m\u001b[38;5;124m'\u001b[39m\u001b[38;5;124mread_html\u001b[39m\u001b[38;5;124m'\u001b[39m\u001b[38;5;124m is deprecated and \u001b[39m\u001b[38;5;124m\"\u001b[39m\n\u001b[1;32m   1234\u001b[0m         \u001b[38;5;124m\"\u001b[39m\u001b[38;5;124mwill be removed in a future version. To read from a \u001b[39m\u001b[38;5;124m\"\u001b[39m\n\u001b[0;32m   (...)\u001b[0m\n\u001b[1;32m   1237\u001b[0m         stacklevel\u001b[38;5;241m=\u001b[39mfind_stack_level(),\n\u001b[1;32m   1238\u001b[0m     )\n\u001b[0;32m-> 1240\u001b[0m \u001b[38;5;28;01mreturn\u001b[39;00m \u001b[43m_parse\u001b[49m\u001b[43m(\u001b[49m\n\u001b[1;32m   1241\u001b[0m \u001b[43m    \u001b[49m\u001b[43mflavor\u001b[49m\u001b[38;5;241;43m=\u001b[39;49m\u001b[43mflavor\u001b[49m\u001b[43m,\u001b[49m\n\u001b[1;32m   1242\u001b[0m \u001b[43m    \u001b[49m\u001b[43mio\u001b[49m\u001b[38;5;241;43m=\u001b[39;49m\u001b[43mio\u001b[49m\u001b[43m,\u001b[49m\n\u001b[1;32m   1243\u001b[0m \u001b[43m    \u001b[49m\u001b[43mmatch\u001b[49m\u001b[38;5;241;43m=\u001b[39;49m\u001b[43mmatch\u001b[49m\u001b[43m,\u001b[49m\n\u001b[1;32m   1244\u001b[0m \u001b[43m    \u001b[49m\u001b[43mheader\u001b[49m\u001b[38;5;241;43m=\u001b[39;49m\u001b[43mheader\u001b[49m\u001b[43m,\u001b[49m\n\u001b[1;32m   1245\u001b[0m \u001b[43m    \u001b[49m\u001b[43mindex_col\u001b[49m\u001b[38;5;241;43m=\u001b[39;49m\u001b[43mindex_col\u001b[49m\u001b[43m,\u001b[49m\n\u001b[1;32m   1246\u001b[0m \u001b[43m    \u001b[49m\u001b[43mskiprows\u001b[49m\u001b[38;5;241;43m=\u001b[39;49m\u001b[43mskiprows\u001b[49m\u001b[43m,\u001b[49m\n\u001b[1;32m   1247\u001b[0m \u001b[43m    \u001b[49m\u001b[43mparse_dates\u001b[49m\u001b[38;5;241;43m=\u001b[39;49m\u001b[43mparse_dates\u001b[49m\u001b[43m,\u001b[49m\n\u001b[1;32m   1248\u001b[0m \u001b[43m    \u001b[49m\u001b[43mthousands\u001b[49m\u001b[38;5;241;43m=\u001b[39;49m\u001b[43mthousands\u001b[49m\u001b[43m,\u001b[49m\n\u001b[1;32m   1249\u001b[0m \u001b[43m    \u001b[49m\u001b[43mattrs\u001b[49m\u001b[38;5;241;43m=\u001b[39;49m\u001b[43mattrs\u001b[49m\u001b[43m,\u001b[49m\n\u001b[1;32m   1250\u001b[0m \u001b[43m    \u001b[49m\u001b[43mencoding\u001b[49m\u001b[38;5;241;43m=\u001b[39;49m\u001b[43mencoding\u001b[49m\u001b[43m,\u001b[49m\n\u001b[1;32m   1251\u001b[0m \u001b[43m    \u001b[49m\u001b[43mdecimal\u001b[49m\u001b[38;5;241;43m=\u001b[39;49m\u001b[43mdecimal\u001b[49m\u001b[43m,\u001b[49m\n\u001b[1;32m   1252\u001b[0m \u001b[43m    \u001b[49m\u001b[43mconverters\u001b[49m\u001b[38;5;241;43m=\u001b[39;49m\u001b[43mconverters\u001b[49m\u001b[43m,\u001b[49m\n\u001b[1;32m   1253\u001b[0m \u001b[43m    \u001b[49m\u001b[43mna_values\u001b[49m\u001b[38;5;241;43m=\u001b[39;49m\u001b[43mna_values\u001b[49m\u001b[43m,\u001b[49m\n\u001b[1;32m   1254\u001b[0m \u001b[43m    \u001b[49m\u001b[43mkeep_default_na\u001b[49m\u001b[38;5;241;43m=\u001b[39;49m\u001b[43mkeep_default_na\u001b[49m\u001b[43m,\u001b[49m\n\u001b[1;32m   1255\u001b[0m \u001b[43m    \u001b[49m\u001b[43mdisplayed_only\u001b[49m\u001b[38;5;241;43m=\u001b[39;49m\u001b[43mdisplayed_only\u001b[49m\u001b[43m,\u001b[49m\n\u001b[1;32m   1256\u001b[0m \u001b[43m    \u001b[49m\u001b[43mextract_links\u001b[49m\u001b[38;5;241;43m=\u001b[39;49m\u001b[43mextract_links\u001b[49m\u001b[43m,\u001b[49m\n\u001b[1;32m   1257\u001b[0m \u001b[43m    \u001b[49m\u001b[43mdtype_backend\u001b[49m\u001b[38;5;241;43m=\u001b[39;49m\u001b[43mdtype_backend\u001b[49m\u001b[43m,\u001b[49m\n\u001b[1;32m   1258\u001b[0m \u001b[43m    \u001b[49m\u001b[43mstorage_options\u001b[49m\u001b[38;5;241;43m=\u001b[39;49m\u001b[43mstorage_options\u001b[49m\u001b[43m,\u001b[49m\n\u001b[1;32m   1259\u001b[0m \u001b[43m\u001b[49m\u001b[43m)\u001b[49m\n",
      "File \u001b[0;32m~/.local/lib/python3.10/site-packages/pandas/io/html.py:971\u001b[0m, in \u001b[0;36m_parse\u001b[0;34m(flavor, io, match, attrs, encoding, displayed_only, extract_links, storage_options, **kwargs)\u001b[0m\n\u001b[1;32m    969\u001b[0m retained \u001b[38;5;241m=\u001b[39m \u001b[38;5;28;01mNone\u001b[39;00m\n\u001b[1;32m    970\u001b[0m \u001b[38;5;28;01mfor\u001b[39;00m flav \u001b[38;5;129;01min\u001b[39;00m flavor:\n\u001b[0;32m--> 971\u001b[0m     parser \u001b[38;5;241m=\u001b[39m \u001b[43m_parser_dispatch\u001b[49m\u001b[43m(\u001b[49m\u001b[43mflav\u001b[49m\u001b[43m)\u001b[49m\n\u001b[1;32m    972\u001b[0m     p \u001b[38;5;241m=\u001b[39m parser(\n\u001b[1;32m    973\u001b[0m         io,\n\u001b[1;32m    974\u001b[0m         compiled_match,\n\u001b[0;32m   (...)\u001b[0m\n\u001b[1;32m    979\u001b[0m         storage_options,\n\u001b[1;32m    980\u001b[0m     )\n\u001b[1;32m    982\u001b[0m     \u001b[38;5;28;01mtry\u001b[39;00m:\n",
      "File \u001b[0;32m~/.local/lib/python3.10/site-packages/pandas/io/html.py:918\u001b[0m, in \u001b[0;36m_parser_dispatch\u001b[0;34m(flavor)\u001b[0m\n\u001b[1;32m    916\u001b[0m     import_optional_dependency(\u001b[38;5;124m\"\u001b[39m\u001b[38;5;124mbs4\u001b[39m\u001b[38;5;124m\"\u001b[39m)\n\u001b[1;32m    917\u001b[0m \u001b[38;5;28;01melse\u001b[39;00m:\n\u001b[0;32m--> 918\u001b[0m     \u001b[43mimport_optional_dependency\u001b[49m\u001b[43m(\u001b[49m\u001b[38;5;124;43m\"\u001b[39;49m\u001b[38;5;124;43mlxml.etree\u001b[39;49m\u001b[38;5;124;43m\"\u001b[39;49m\u001b[43m)\u001b[49m\n\u001b[1;32m    919\u001b[0m \u001b[38;5;28;01mreturn\u001b[39;00m _valid_parsers[flavor]\n",
      "File \u001b[0;32m~/.local/lib/python3.10/site-packages/pandas/compat/_optional.py:138\u001b[0m, in \u001b[0;36mimport_optional_dependency\u001b[0;34m(name, extra, errors, min_version)\u001b[0m\n\u001b[1;32m    136\u001b[0m \u001b[38;5;28;01mexcept\u001b[39;00m \u001b[38;5;167;01mImportError\u001b[39;00m:\n\u001b[1;32m    137\u001b[0m     \u001b[38;5;28;01mif\u001b[39;00m errors \u001b[38;5;241m==\u001b[39m \u001b[38;5;124m\"\u001b[39m\u001b[38;5;124mraise\u001b[39m\u001b[38;5;124m\"\u001b[39m:\n\u001b[0;32m--> 138\u001b[0m         \u001b[38;5;28;01mraise\u001b[39;00m \u001b[38;5;167;01mImportError\u001b[39;00m(msg)\n\u001b[1;32m    139\u001b[0m     \u001b[38;5;28;01mreturn\u001b[39;00m \u001b[38;5;28;01mNone\u001b[39;00m\n\u001b[1;32m    141\u001b[0m \u001b[38;5;66;03m# Handle submodules: if we have submodule, grab parent module from sys.modules\u001b[39;00m\n",
      "\u001b[0;31mImportError\u001b[0m: Missing optional dependency 'lxml'.  Use pip or conda to install lxml."
     ]
    }
   ],
   "source": [
    "df = pd.read_html('/home/dheena/My_learning/machine learning/customers-10000.htm')"
   ]
  },
  {
   "cell_type": "code",
   "execution_count": null,
   "id": "10fd61dc",
   "metadata": {},
   "outputs": [],
   "source": []
  }
 ],
 "metadata": {
  "kernelspec": {
   "display_name": "Python 3",
   "language": "python",
   "name": "python3"
  },
  "language_info": {
   "codemirror_mode": {
    "name": "ipython",
    "version": 3
   },
   "file_extension": ".py",
   "mimetype": "text/x-python",
   "name": "python",
   "nbconvert_exporter": "python",
   "pygments_lexer": "ipython3",
   "version": "3.10.12"
  }
 },
 "nbformat": 4,
 "nbformat_minor": 5
}
